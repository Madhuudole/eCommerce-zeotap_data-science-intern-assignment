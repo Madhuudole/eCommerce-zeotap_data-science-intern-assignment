{
 "cells": [
  {
   "cell_type": "code",
   "execution_count": 4,
   "id": "57b9499c-d449-4693-808e-c6a743db7eee",
   "metadata": {},
   "outputs": [
    {
     "name": "stdout",
     "output_type": "stream",
     "text": [
      "Lookalike.csv has been created!\n"
     ]
    }
   ],
   "source": [
    "# Import libraries\n",
    "import pandas as pd\n",
    "from sklearn.metrics.pairwise import cosine_similarity\n",
    "from sklearn.preprocessing import StandardScaler\n",
    "\n",
    "# Load datasets\n",
    "customers = pd.read_csv(\"C:/Users/madhu/Downloads/Customers.csv\")\n",
    "transactions = pd.read_csv(\"C:/Users/madhu/Downloads/Transactions.csv\")\n",
    "products = pd.read_csv(\"C:/Users/madhu/Downloads/Products.csv\")\n",
    "\n",
    "# Merge datasets\n",
    "merged_data = transactions.merge(customers, on=\"CustomerID\").merge(products, on=\"ProductID\")\n",
    "\n",
    "# Feature engineering\n",
    "# Aggregate transaction data at the customer level\n",
    "customer_features = merged_data.groupby(\"CustomerID\").agg({\n",
    "    \"TotalValue\": \"sum\",\n",
    "    \"Quantity\": \"sum\",\n",
    "    \"Category\": lambda x: x.mode()[0],  # Most frequent category\n",
    "    \"Region\": \"first\"  # Region from customers.csv\n",
    "}).reset_index()\n",
    "\n",
    "# One-hot encode categorical features (e.g., Region, Category)\n",
    "customer_features = pd.get_dummies(customer_features, columns=[\"Region\", \"Category\"])\n",
    "\n",
    "# Normalize numerical features\n",
    "scaler = StandardScaler()\n",
    "numerical_columns = [\"TotalValue\", \"Quantity\"]\n",
    "customer_features[numerical_columns] = scaler.fit_transform(customer_features[numerical_columns])\n",
    "\n",
    "# Calculate cosine similarity\n",
    "customer_ids = customer_features[\"CustomerID\"]\n",
    "feature_matrix = customer_features.drop(\"CustomerID\", axis=1)\n",
    "similarity_matrix = cosine_similarity(feature_matrix)\n",
    "\n",
    "# Find top 3 lookalikes for the first 20 customers\n",
    "lookalike_results = {}\n",
    "for i, customer_id in enumerate(customer_ids[:20]):\n",
    "    similar_indices = similarity_matrix[i].argsort()[-4:-1][::-1]  # Top 3 excluding itself\n",
    "    similar_customers = [(customer_ids[j], round(similarity_matrix[i, j], 2)) for j in similar_indices]\n",
    "    lookalike_results[customer_id] = similar_customers\n",
    "\n",
    "# Save to Lookalike.csv\n",
    "lookalike_df = pd.DataFrame({\n",
    "    \"CustomerID\": list(lookalike_results.keys()),\n",
    "    \"SimilarCustomers\": [str(similar) for similar in lookalike_results.values()]\n",
    "})\n",
    "lookalike_df.to_csv(\"Lookalike.csv\", index=False)\n",
    "\n",
    "print(\"Lookalike.csv has been created!\")\n"
   ]
  },
  {
   "cell_type": "code",
   "execution_count": 5,
   "id": "ff84b786-c8b5-4518-a7cd-aca07dae81bc",
   "metadata": {},
   "outputs": [
    {
     "name": "stdout",
     "output_type": "stream",
     "text": [
      "Lookalike.csv has been created!\n"
     ]
    }
   ],
   "source": [
    "# Import libraries\n",
    "import pandas as pd\n",
    "from sklearn.metrics.pairwise import cosine_similarity\n",
    "from sklearn.preprocessing import StandardScaler\n",
    "\n",
    "# Mock data\n",
    "customers_data = {\n",
    "    \"CustomerID\": [\"C0001\", \"C0002\", \"C0003\", \"C0004\", \"C0005\"],\n",
    "    \"CustomerName\": [\"John Doe\", \"Jane Smith\", \"Bob Lee\", \"Alice White\", \"Chris Green\"],\n",
    "    \"Region\": [\"Europe\", \"Asia\", \"America\", \"Europe\", \"Africa\"],\n",
    "    \"SignupDate\": [\"2022-01-01\", \"2022-02-01\", \"2022-03-01\", \"2022-04-01\", \"2022-05-01\"]\n",
    "}\n",
    "products_data = {\n",
    "    \"ProductID\": [\"P0001\", \"P0002\", \"P0003\", \"P0004\", \"P0005\"],\n",
    "    \"ProductName\": [\"Laptop\", \"Smartphone\", \"Desk\", \"Chair\", \"Headphones\"],\n",
    "    \"Category\": [\"Electronics\", \"Electronics\", \"Furniture\", \"Furniture\", \"Accessories\"],\n",
    "    \"Price\": [1000, 500, 200, 150, 100]\n",
    "}\n",
    "transactions_data = {\n",
    "    \"TransactionID\": [\"T0001\", \"T0002\", \"T0003\", \"T0004\", \"T0005\"],\n",
    "    \"CustomerID\": [\"C0001\", \"C0002\", \"C0003\", \"C0004\", \"C0005\"],\n",
    "    \"ProductID\": [\"P0001\", \"P0002\", \"P0003\", \"P0004\", \"P0005\"],\n",
    "    \"TransactionDate\": [\"2022-01-15\", \"2022-02-20\", \"2022-03-25\", \"2022-04-15\", \"2022-05-05\"],\n",
    "    \"Quantity\": [1, 2, 1, 4, 5],\n",
    "    \"TotalValue\": [1000, 1000, 200, 600, 500]\n",
    "}\n",
    "\n",
    "# Convert mock data to DataFrames\n",
    "customers = pd.DataFrame(customers_data)\n",
    "products = pd.DataFrame(products_data)\n",
    "transactions = pd.DataFrame(transactions_data)\n",
    "\n",
    "# Merge datasets\n",
    "merged_data = transactions.merge(customers, on=\"CustomerID\").merge(products, on=\"ProductID\")\n",
    "\n",
    "# Feature engineering\n",
    "customer_features = merged_data.groupby(\"CustomerID\").agg({\n",
    "    \"TotalValue\": \"sum\",\n",
    "    \"Quantity\": \"sum\",\n",
    "    \"Price\": \"mean\",\n",
    "    \"Category\": lambda x: x.mode()[0],\n",
    "    \"Region\": \"first\"\n",
    "}).reset_index()\n",
    "\n",
    "# One-hot encode categorical features\n",
    "customer_features = pd.get_dummies(customer_features, columns=[\"Region\", \"Category\"])\n",
    "\n",
    "# Normalize numerical features\n",
    "numerical_columns = [\"TotalValue\", \"Quantity\", \"Price\"]\n",
    "scaler = StandardScaler()\n",
    "customer_features[numerical_columns] = scaler.fit_transform(customer_features[numerical_columns])\n",
    "\n",
    "# Prepare feature matrix\n",
    "customer_ids = customer_features[\"CustomerID\"]\n",
    "feature_matrix = customer_features.drop(\"CustomerID\", axis=1)\n",
    "\n",
    "# Calculate cosine similarity\n",
    "similarity_matrix = cosine_similarity(feature_matrix)\n",
    "\n",
    "# Find top 3 similar customers for the first 20 customers\n",
    "lookalike_results = {}\n",
    "for i, customer_id in enumerate(customer_ids[:20]):\n",
    "    similarity_scores = list(enumerate(similarity_matrix[i]))\n",
    "    sorted_scores = sorted(similarity_scores, key=lambda x: x[1], reverse=True)[1:4]\n",
    "    similar_customers = [(customer_ids[j], round(score, 2)) for j, score in sorted_scores]\n",
    "    lookalike_results[customer_id] = similar_customers\n",
    "\n",
    "# Save results to Lookalike.csv\n",
    "lookalike_df = pd.DataFrame({\n",
    "    \"CustomerID\": list(lookalike_results.keys()),\n",
    "    \"SimilarCustomers\": [str(similar) for similar in lookalike_results.values()]\n",
    "})\n",
    "lookalike_df.to_csv(\"Lookalike.csv\", index=False)\n",
    "\n",
    "print(\"Lookalike.csv has been created!\")\n"
   ]
  },
  {
   "cell_type": "code",
   "execution_count": 6,
   "id": "da1673c1-63cd-4c08-8f88-0be42382241a",
   "metadata": {},
   "outputs": [
    {
     "name": "stdout",
     "output_type": "stream",
     "text": [
      "Precision@3: 0.67\n"
     ]
    }
   ],
   "source": [
    "# Define ground truth (relevant customers) for evaluation\n",
    "ground_truth = {\n",
    "    \"C0001\": [\"C0004\", \"C0005\", \"C0003\"],\n",
    "    \"C0002\": [\"C0001\", \"C0005\", \"C0003\"],\n",
    "    # Add for all customers\n",
    "}\n",
    "\n",
    "# Predicted lookalikes\n",
    "predictions = {\n",
    "    \"C0001\": [\"C0005\", \"C0003\", \"C0002\"],\n",
    "    \"C0002\": [\"C0001\", \"C0004\", \"C0003\"],\n",
    "    # Add for all customers\n",
    "}\n",
    "\n",
    "# Precision@K calculation\n",
    "k = 3\n",
    "precision_scores = []\n",
    "for customer, relevant in ground_truth.items():\n",
    "    if customer in predictions:\n",
    "        predicted = predictions[customer][:k]\n",
    "        relevant_set = set(relevant)\n",
    "        precision = len(set(predicted) & relevant_set) / k\n",
    "        precision_scores.append(precision)\n",
    "\n",
    "mean_precision = sum(precision_scores) / len(precision_scores)\n",
    "print(f\"Precision@{k}: {mean_precision:.2f}\")\n"
   ]
  },
  {
   "cell_type": "code",
   "execution_count": 20,
   "id": "b167ef10-642a-4abc-8f13-26ce5a32df1f",
   "metadata": {},
   "outputs": [
    {
     "name": "stdout",
     "output_type": "stream",
     "text": [
      "Precision@3: 0.73\n",
      "Recall@3: 0.73\n",
      "Mean Reciprocal Rank (MRR): 1.00\n",
      "Coverage: 0.05\n"
     ]
    }
   ],
   "source": [
    "# Ground truth (manually define for testing)\n",
    "# Replace with your logic for defining \"relevant\" customers based on actual data.\n",
    "ground_truth = {\n",
    "    \"C0001\": [\"C0002\", \"C0003\", \"C0004\"],\n",
    "    \"C0002\": [\"C0001\", \"C0004\", \"C0005\"],\n",
    "    \"C0003\": [\"C0001\", \"C0002\", \"C0005\"],\n",
    "    \"C0004\": [\"C0001\", \"C0002\", \"C0003\"],\n",
    "    \"C0005\": [\"C0002\", \"C0003\", \"C0004\"]\n",
    "}\n",
    "\n",
    "# Predictions (from your Lookalike.csv or model output)\n",
    "predictions = {\n",
    "    \"C0001\": [\"C0002\", \"C0003\", \"C0005\"],\n",
    "    \"C0002\": [\"C0004\", \"C0001\", \"C0005\"],\n",
    "    \"C0003\": [\"C0001\", \"C0002\", \"C0004\"],\n",
    "    \"C0004\": [\"C0002\", \"C0003\", \"C0005\"],\n",
    "    \"C0005\": [\"C0004\", \"C0003\", \"C0001\"]\n",
    "}\n",
    "\n",
    "# Function to calculate Precision@K\n",
    "def precision_at_k(ground_truth, predictions, k):\n",
    "    precision_scores = []\n",
    "    for customer, relevant in ground_truth.items():\n",
    "        if customer in predictions:\n",
    "            predicted = predictions[customer][:k]\n",
    "            relevant_set = set(relevant)\n",
    "            precision = len(set(predicted) & relevant_set) / k\n",
    "            precision_scores.append(precision)\n",
    "    return sum(precision_scores) / len(precision_scores)\n",
    "\n",
    "# Function to calculate Recall@K\n",
    "def recall_at_k(ground_truth, predictions, k):\n",
    "    recall_scores = []\n",
    "    for customer, relevant in ground_truth.items():\n",
    "        if customer in predictions:\n",
    "            predicted = predictions[customer][:k]\n",
    "            relevant_set = set(relevant)\n",
    "            recall = len(set(predicted) & relevant_set) / len(relevant_set)\n",
    "            recall_scores.append(recall)\n",
    "    return sum(recall_scores) / len(recall_scores)\n",
    "\n",
    "# Function to calculate MRR\n",
    "def mean_reciprocal_rank(ground_truth, predictions):\n",
    "    mrr_score = 0\n",
    "    for customer, relevant in ground_truth.items():\n",
    "        if customer in predictions:\n",
    "            predicted = predictions[customer]\n",
    "            for rank, pred in enumerate(predicted, start=1):\n",
    "                if pred in relevant:\n",
    "                    mrr_score += 1 / rank\n",
    "                    break\n",
    "    return mrr_score / len(ground_truth)\n",
    "\n",
    "def coverage(predictions, total_customers):\n",
    "    # Proportion of customers who received at least one valid recommendation\n",
    "    covered_customers = [customer for customer, preds in predictions.items() if len(preds) > 0]\n",
    "    return len(covered_customers) / total_customers\n",
    "\n",
    "\n",
    "# Calculate metrics\n",
    "k = 3\n",
    "precision = precision_at_k(ground_truth, predictions, k)\n",
    "recall = recall_at_k(ground_truth, predictions, k)\n",
    "mrr = mean_reciprocal_rank(ground_truth, predictions)\n",
    "coverage_score = coverage(predictions, len(customers))\n",
    "\n",
    "print(f\"Precision@{k}: {precision:.2f}\")\n",
    "print(f\"Recall@{k}: {recall:.2f}\")\n",
    "print(f\"Mean Reciprocal Rank (MRR): {mrr:.2f}\")\n",
    "print(f\"Coverage: {coverage_score:.2f}\")"
   ]
  },
  {
   "cell_type": "markdown",
   "id": "04c22fdb-76a7-4826-8179-2885d853a337",
   "metadata": {},
   "source": [
    "VISUALIZATION OF EVALUATION METRICS"
   ]
  },
  {
   "cell_type": "code",
   "execution_count": 11,
   "id": "24a54b38-16e9-4562-84f2-0d16d694f231",
   "metadata": {},
   "outputs": [
    {
     "data": {
      "image/png": "[encoded data removed]",
      "text/plain": [
       "<Figure size 1200x600 with 1 Axes>"
      ]
     },
     "metadata": {},
     "output_type": "display_data"
    }
   ],
   "source": [
    "import matplotlib.pyplot as plt\n",
    "\n",
    "# Simulated metric values for visualization\n",
    "customers = list(range(1, len(ground_truth) + 1))\n",
    "precision_scores = [np.random.uniform(0.5, 1.0) for _ in customers]\n",
    "recall_scores = [np.random.uniform(0.4, 1.0) for _ in customers]\n",
    "\n",
    "# Plot Precision and Recall Distribution\n",
    "plt.figure(figsize=(12, 6))\n",
    "plt.plot(customers, precision_scores, label=\"Precision@3\", marker='o')\n",
    "plt.plot(customers, recall_scores, label=\"Recall@3\", marker='x')\n",
    "plt.xlabel(\"Customer Index\")\n",
    "plt.ylabel(\"Metric Value\")\n",
    "plt.title(\"Precision and Recall Distribution\")\n",
    "plt.legend()\n",
    "plt.grid()\n",
    "plt.show()\n"
   ]
  },
  {
   "cell_type": "markdown",
   "id": "b90b8733-3efd-4134-a042-68ec8fba931b",
   "metadata": {},
   "source": [
    "COSINE SIMILARITY"
   ]
  },
  {
   "cell_type": "code",
   "execution_count": 21,
   "id": "f395b718-11a1-4d89-8f78-d8105e65b7b1",
   "metadata": {},
   "outputs": [
    {
     "name": "stdout",
     "output_type": "stream",
     "text": [
      "Lookalike.csv has been created successfully!\n"
     ]
    }
   ],
   "source": [
    " #Calculate cosine similarity\n",
    "# Prepare feature matrix\n",
    "customer_ids = customer_features[\"CustomerID\"]\n",
    "feature_matrix = customer_features.drop(\"CustomerID\", axis=1)\n",
    "\n",
    "# Compute cosine similarity matrix\n",
    "similarity_matrix = cosine_similarity(feature_matrix)\n",
    "\n",
    "# Step 7: Identify top 3 lookalike customers for the first 20 customers\n",
    "lookalike_results = {}\n",
    "for i, customer_id in enumerate(customer_ids[:20]):  # Process only the first 20 customers\n",
    "    # Get similarity scores for the current customer\n",
    "    similarity_scores = list(enumerate(similarity_matrix[i]))\n",
    "    # Sort by similarity score in descending order and exclude the customer themselves\n",
    "    sorted_scores = sorted(similarity_scores, key=lambda x: x[1], reverse=True)[1:4]\n",
    "    # Extract top 3 similar customers with their scores\n",
    "    similar_customers = [(customer_ids[j], round(score, 2)) for j, score in sorted_scores]\n",
    "    # Store the results in the required format\n",
    "    lookalike_results[customer_id] = similar_customers\n",
    "\n",
    "# Step 8: Save results to Lookalike.csv\n",
    "# Convert results to a DataFrame\n",
    "lookalike_df = pd.DataFrame({\n",
    "    \"CustomerID\": list(lookalike_results.keys()),\n",
    "    \"SimilarCustomers\": [str(similar) for similar in lookalike_results.values()]\n",
    "})\n",
    "# Save to CSV\n",
    "lookalike_df.to_csv(\"Lookalike.csv\", index=False)\n",
    "\n",
    "print(\"Lookalike.csv has been created successfully!\")\n"
   ]
  },
  {
   "cell_type": "code",
   "execution_count": 23,
   "id": "7a76e630-0e25-4ed2-b2fb-ea2a59f218a4",
   "metadata": {},
   "outputs": [
    {
     "name": "stdout",
     "output_type": "stream",
     "text": [
      "Feature Matrix:\n",
      "  CustomerID  TotalValue  Quantity  Region_Europe  Category_Electronics\n",
      "0      C0001        0.65      0.73            1.0                   1.0\n",
      "1      C0002        0.58      0.62            0.0                   1.0\n",
      "2      C0003        0.70      0.85            1.0                   0.0\n"
     ]
    }
   ],
   "source": [
    "import pandas as pd\n",
    "from sklearn.metrics.pairwise import cosine_similarity\n",
    "\n",
    "# Define feature matrix (preprocessed data)\n",
    "feature_matrix_data = {\n",
    "    \"CustomerID\": [\"C0001\", \"C0002\", \"C0003\"],\n",
    "    \"TotalValue\": [0.65, 0.58, 0.70],      # Normalized total spend\n",
    "    \"Quantity\": [0.73, 0.62, 0.85],        # Normalized quantity purchased\n",
    "    \"Region_Europe\": [1.0, 0.0, 1.0],      # One-hot encoded region\n",
    "    \"Category_Electronics\": [1.0, 1.0, 0.0]  # One-hot encoded category\n",
    "}\n",
    "\n",
    "# Create a DataFrame\n",
    "feature_matrix = pd.DataFrame(feature_matrix_data)\n",
    "print(\"Feature Matrix:\")\n",
    "print(feature_matrix)"
   ]
  },
  {
   "cell_type": "code",
   "execution_count": 24,
   "id": "404acef7-61b1-48e9-9f18-2d458a881eaa",
   "metadata": {},
   "outputs": [
    {
     "name": "stdout",
     "output_type": "stream",
     "text": [
      "\n",
      "Cosine Similarity Matrix:\n",
      "CustomerID     C0001     C0002     C0003\n",
      "CustomerID                              \n",
      "C0001       1.000000  0.811303  0.811658\n",
      "C0002       0.811303  1.000000  0.478162\n",
      "C0003       0.811658  0.478162  1.000000\n"
     ]
    }
   ],
   "source": [
    "# Compute cosine similarity\n",
    "customer_ids = feature_matrix[\"CustomerID\"]\n",
    "features = feature_matrix.drop(\"CustomerID\", axis=1)\n",
    "similarity_matrix = cosine_similarity(features)\n",
    "\n",
    "# Convert similarity matrix into a DataFrame for tabular output\n",
    "similarity_df = pd.DataFrame(similarity_matrix, columns=customer_ids, index=customer_ids)\n",
    "print(\"\\nCosine Similarity Matrix:\")\n",
    "print(similarity_df)"
   ]
  },
  {
   "cell_type": "code",
   "execution_count": 25,
   "id": "ea6f2431-6db9-4ff9-9204-c44354b46edb",
   "metadata": {},
   "outputs": [
    {
     "name": "stdout",
     "output_type": "stream",
     "text": [
      "\n",
      "Top 3 Lookalikes with Similarity Scores:\n",
      "  CustomerID                    SimilarCustomers\n",
      "0      C0001  [('C0003', 0.81), ('C0002', 0.81)]\n",
      "1      C0002  [('C0001', 0.81), ('C0003', 0.48)]\n",
      "2      C0003  [('C0001', 0.81), ('C0002', 0.48)]\n"
     ]
    }
   ],
   "source": [
    "# Find top 3 similar customers for each customer\n",
    "lookalike_results = {}\n",
    "for i, customer_id in enumerate(customer_ids):\n",
    "    # Get similarity scores for the current customer\n",
    "    similarity_scores = list(enumerate(similarity_matrix[i]))\n",
    "    # Sort by similarity score in descending order and exclude the customer themselves\n",
    "    sorted_scores = sorted(similarity_scores, key=lambda x: x[1], reverse=True)[1:4]\n",
    "    # Extract top 3 similar customers with their scores\n",
    "    similar_customers = [(customer_ids[j], round(score, 2)) for j, score in sorted_scores]\n",
    "    lookalike_results[customer_id] = similar_customers\n",
    "\n",
    "# Display results in tabular form\n",
    "lookalike_df = pd.DataFrame({\n",
    "    \"CustomerID\": list(lookalike_results.keys()),\n",
    "    \"SimilarCustomers\": [str(similar) for similar in lookalike_results.values()]\n",
    "})\n",
    "print(\"\\nTop 3 Lookalikes with Similarity Scores:\")\n",
    "print(lookalike_df)\n"
   ]
  },
  {
   "cell_type": "code",
   "execution_count": 26,
   "id": "8c6bf869-7a72-4365-bdee-05f0163b543d",
   "metadata": {},
   "outputs": [
    {
     "name": "stdout",
     "output_type": "stream",
     "text": [
      "Feature Matrix:\n",
      "  CustomerID  TotalValue  Quantity  Region_Europe  Category_Electronics\n",
      "0      C0001        0.65      0.73            1.0                   1.0\n",
      "1      C0002        0.58      0.62            0.0                   1.0\n",
      "2      C0003        0.70      0.85            1.0                   0.0\n",
      "\n",
      "Cosine Similarity Matrix:\n",
      "CustomerID     C0001     C0002     C0003\n",
      "CustomerID                              \n",
      "C0001       1.000000  0.811303  0.811658\n",
      "C0002       0.811303  1.000000  0.478162\n",
      "C0003       0.811658  0.478162  1.000000\n",
      "\n",
      "Top 3 Lookalikes with Similarity Scores:\n",
      "  CustomerID                    SimilarCustomers\n",
      "0      C0001  [('C0003', 0.81), ('C0002', 0.81)]\n",
      "1      C0002  [('C0001', 0.81), ('C0003', 0.48)]\n",
      "2      C0003  [('C0001', 0.81), ('C0002', 0.48)]\n"
     ]
    }
   ],
   "source": [
    "import pandas as pd\n",
    "from sklearn.metrics.pairwise import cosine_similarity\n",
    "\n",
    "# Step 1: Define the Feature Matrix\n",
    "feature_matrix_data = {\n",
    "    \"CustomerID\": [\"C0001\", \"C0002\", \"C0003\"],\n",
    "    \"TotalValue\": [0.65, 0.58, 0.70],\n",
    "    \"Quantity\": [0.73, 0.62, 0.85],\n",
    "    \"Region_Europe\": [1.0, 0.0, 1.0],\n",
    "    \"Category_Electronics\": [1.0, 1.0, 0.0]\n",
    "}\n",
    "feature_matrix = pd.DataFrame(feature_matrix_data)\n",
    "\n",
    "# Step 2: Compute Cosine Similarity\n",
    "customer_ids = feature_matrix[\"CustomerID\"]\n",
    "features = feature_matrix.drop(\"CustomerID\", axis=1)\n",
    "similarity_matrix = cosine_similarity(features)\n",
    "similarity_df = pd.DataFrame(similarity_matrix, columns=customer_ids, index=customer_ids)\n",
    "\n",
    "# Step 3: Extract Top 3 Lookalikes\n",
    "lookalike_results = {}\n",
    "for i, customer_id in enumerate(customer_ids):\n",
    "    similarity_scores = list(enumerate(similarity_matrix[i]))\n",
    "    sorted_scores = sorted(similarity_scores, key=lambda x: x[1], reverse=True)[1:4]\n",
    "    similar_customers = [(customer_ids[j], round(score, 2)) for j, score in sorted_scores]\n",
    "    lookalike_results[customer_id] = similar_customers\n",
    "\n",
    "lookalike_df = pd.DataFrame({\n",
    "    \"CustomerID\": list(lookalike_results.keys()),\n",
    "    \"SimilarCustomers\": [str(similar) for similar in lookalike_results.values()]\n",
    "})\n",
    "\n",
    "# Step 4: Display Results\n",
    "print(\"Feature Matrix:\")\n",
    "print(feature_matrix)\n",
    "print(\"\\nCosine Similarity Matrix:\")\n",
    "print(similarity_df)\n",
    "print(\"\\nTop 3 Lookalikes with Similarity Scores:\")\n",
    "print(lookalike_df)\n"
   ]
  },
  {
   "cell_type": "code",
   "execution_count": null,
   "id": "975ce830-db44-4811-a470-6bdb3b68df96",
   "metadata": {},
   "outputs": [],
   "source": []
  }
 ],
 "metadata": {
  "kernelspec": {
   "display_name": "Python 3 (ipykernel)",
   "language": "python",
   "name": "python3"
  },
  "language_info": {
   "codemirror_mode": {
    "name": "ipython",
    "version": 3
   },
   "file_extension": ".py",
   "mimetype": "text/x-python",
   "name": "python",
   "nbconvert_exporter": "python",
   "pygments_lexer": "ipython3",
   "version": "3.11.7"
  }
 },
 "nbformat": 4,
 "nbformat_minor": 5
}
